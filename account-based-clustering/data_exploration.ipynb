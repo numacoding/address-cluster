{
 "cells": [
  {
   "cell_type": "code",
   "execution_count": 1,
   "metadata": {},
   "outputs": [],
   "source": [
    "import os\n",
    "from google.oauth2 import service_account  # type: ignore\n",
    "import googleapiclient.discovery  # type: ignore\n",
    "from google.cloud import bigquery\n",
    "import pandas as pd"
   ]
  },
  {
   "cell_type": "code",
   "execution_count": 3,
   "metadata": {},
   "outputs": [],
   "source": [
    "# client = bigquery.Client()\n",
    "\n",
    "# query = '''\n",
    "# WITH transfers AS (\n",
    "# SELECT \n",
    "#   block_timestamp, \n",
    "#   from_address, \n",
    "#   to_address, \n",
    "#   token_address, \n",
    "#   value  \n",
    "# FROM `bigquery-public-data.crypto_ethereum.token_transfers`  \n",
    "# WHERE TIMESTAMP_TRUNC(block_timestamp, DAY) = TIMESTAMP(\"2024-07-22\"))\n",
    "# SELECT\n",
    "#   t.block_timestamp,\n",
    "#   t.from_address,\n",
    "#   t.to_address,\n",
    "#   t.value,\n",
    "#   tok.name,\n",
    "#   tok.symbol,\n",
    "#   tok.decimals,\n",
    "#   tok.total_supply\n",
    "# FROM transfers t\n",
    "# LEFT JOIN `bigquery-public-data.crypto_ethereum.tokens` tok ON t.token_address = tok.address\n",
    "# '''\n",
    "\n",
    "# query_job = client.query(query)\n",
    "\n",
    "# df = query_job.to_dataframe()\n",
    "# df.to_csv('data/transactions.csv')\n",
    "# df.head()"
   ]
  },
  {
   "attachments": {},
   "cell_type": "markdown",
   "metadata": {},
   "source": [
    "Para ahorrar capacidad computacional, he descargado la query en un csv y lo llamaré a este para optimizar el tiempo de análisis"
   ]
  },
  {
   "attachments": {},
   "cell_type": "markdown",
   "metadata": {},
   "source": [
    "## Voy a remover la columna total_supply porque tiene valores extraños y no confio en ellos para continuar trabajando con ellos (parecen no estar actualizados).\n",
    "Una buena opción sería conseguir los datos de la oferta total de los tokens, o al menos tener un booleano que permita indicar cuales tienen capped supply. Esto sería útil para medir qué proporción de la oferta total de cada token se está transaccionando en esos momentos."
   ]
  },
  {
   "cell_type": "code",
   "execution_count": 4,
   "metadata": {},
   "outputs": [
    {
     "name": "stderr",
     "output_type": "stream",
     "text": [
      "/var/folders/k4/6hfj9vfx0rvbk2skj_ydz9600000gn/T/ipykernel_99888/4137274742.py:1: DtypeWarning: Columns (4,5,6,8) have mixed types. Specify dtype option on import or set low_memory=False.\n",
      "  df = pd.read_csv('data/transactions.csv')\n"
     ]
    },
    {
     "data": {
      "text/html": [
       "<div>\n",
       "<style scoped>\n",
       "    .dataframe tbody tr th:only-of-type {\n",
       "        vertical-align: middle;\n",
       "    }\n",
       "\n",
       "    .dataframe tbody tr th {\n",
       "        vertical-align: top;\n",
       "    }\n",
       "\n",
       "    .dataframe thead th {\n",
       "        text-align: right;\n",
       "    }\n",
       "</style>\n",
       "<table border=\"1\" class=\"dataframe\">\n",
       "  <thead>\n",
       "    <tr style=\"text-align: right;\">\n",
       "      <th></th>\n",
       "      <th>block_timestamp</th>\n",
       "      <th>from_address</th>\n",
       "      <th>to_address</th>\n",
       "      <th>value</th>\n",
       "      <th>name</th>\n",
       "      <th>symbol</th>\n",
       "      <th>decimals</th>\n",
       "      <th>tx_month</th>\n",
       "      <th>tx_year</th>\n",
       "    </tr>\n",
       "  </thead>\n",
       "  <tbody>\n",
       "    <tr>\n",
       "      <th>0</th>\n",
       "      <td>2024-07-22 00:00:11+00:00</td>\n",
       "      <td>0x06fd4ba7973a0d39a91734bbc35bc2bcaa99e3b0</td>\n",
       "      <td>0x28c6c06298d514db089934071355e5743bf21d60</td>\n",
       "      <td>3.000000e+05</td>\n",
       "      <td>COTI Token</td>\n",
       "      <td>COTI</td>\n",
       "      <td>18.0</td>\n",
       "      <td>7</td>\n",
       "      <td>2024</td>\n",
       "    </tr>\n",
       "    <tr>\n",
       "      <th>1</th>\n",
       "      <td>2024-07-22 00:00:11+00:00</td>\n",
       "      <td>0x0000000000000000000000000000000000000000</td>\n",
       "      <td>0x42df00ac2e0000005486ac375a00b80000d12758</td>\n",
       "      <td>2.879000e+03</td>\n",
       "      <td>Metronome</td>\n",
       "      <td>MET</td>\n",
       "      <td>18.0</td>\n",
       "      <td>7</td>\n",
       "      <td>2024</td>\n",
       "    </tr>\n",
       "    <tr>\n",
       "      <th>2</th>\n",
       "      <td>2024-07-22 00:00:11+00:00</td>\n",
       "      <td>0x79320fad5780ec2109b2242b20f120ee16b5dafb</td>\n",
       "      <td>0x28c6c06298d514db089934071355e5743bf21d60</td>\n",
       "      <td>3.900000e+07</td>\n",
       "      <td>SHIBA INU</td>\n",
       "      <td>SHIB</td>\n",
       "      <td>18.0</td>\n",
       "      <td>7</td>\n",
       "      <td>2024</td>\n",
       "    </tr>\n",
       "    <tr>\n",
       "      <th>3</th>\n",
       "      <td>2024-07-22 00:00:11+00:00</td>\n",
       "      <td>0xa9c61fe59b5702b1d382fd1d5e495887ff34c21d</td>\n",
       "      <td>0x28c6c06298d514db089934071355e5743bf21d60</td>\n",
       "      <td>4.660659e+03</td>\n",
       "      <td>ChainLink Token</td>\n",
       "      <td>LINK</td>\n",
       "      <td>18.0</td>\n",
       "      <td>7</td>\n",
       "      <td>2024</td>\n",
       "    </tr>\n",
       "    <tr>\n",
       "      <th>4</th>\n",
       "      <td>2024-07-22 00:00:23+00:00</td>\n",
       "      <td>0x8670b29f42089019747b24f8d6965afa3eaf90ec</td>\n",
       "      <td>0x60d6649f0b58445d39d98aaf29d5de590111f67c</td>\n",
       "      <td>2.500000e+06</td>\n",
       "      <td>SHIBA INU</td>\n",
       "      <td>SHIB</td>\n",
       "      <td>18.0</td>\n",
       "      <td>7</td>\n",
       "      <td>2024</td>\n",
       "    </tr>\n",
       "  </tbody>\n",
       "</table>\n",
       "</div>"
      ],
      "text/plain": [
       "            block_timestamp                                from_address  \\\n",
       "0 2024-07-22 00:00:11+00:00  0x06fd4ba7973a0d39a91734bbc35bc2bcaa99e3b0   \n",
       "1 2024-07-22 00:00:11+00:00  0x0000000000000000000000000000000000000000   \n",
       "2 2024-07-22 00:00:11+00:00  0x79320fad5780ec2109b2242b20f120ee16b5dafb   \n",
       "3 2024-07-22 00:00:11+00:00  0xa9c61fe59b5702b1d382fd1d5e495887ff34c21d   \n",
       "4 2024-07-22 00:00:23+00:00  0x8670b29f42089019747b24f8d6965afa3eaf90ec   \n",
       "\n",
       "                                   to_address         value             name  \\\n",
       "0  0x28c6c06298d514db089934071355e5743bf21d60  3.000000e+05       COTI Token   \n",
       "1  0x42df00ac2e0000005486ac375a00b80000d12758  2.879000e+03        Metronome   \n",
       "2  0x28c6c06298d514db089934071355e5743bf21d60  3.900000e+07        SHIBA INU   \n",
       "3  0x28c6c06298d514db089934071355e5743bf21d60  4.660659e+03  ChainLink Token   \n",
       "4  0x60d6649f0b58445d39d98aaf29d5de590111f67c  2.500000e+06        SHIBA INU   \n",
       "\n",
       "  symbol  decimals  tx_month  tx_year  \n",
       "0   COTI      18.0         7     2024  \n",
       "1    MET      18.0         7     2024  \n",
       "2   SHIB      18.0         7     2024  \n",
       "3   LINK      18.0         7     2024  \n",
       "4   SHIB      18.0         7     2024  "
      ]
     },
     "execution_count": 4,
     "metadata": {},
     "output_type": "execute_result"
    }
   ],
   "source": [
    "df = pd.read_csv('data/transactions.csv')\n",
    "df = df[df.columns[1:-1]]\n",
    "df['decimals'] = pd.to_numeric(df['decimals'], errors='coerce')\n",
    "df['value'] = pd.to_numeric(df['value'], errors='coerce')\n",
    "df['value'] = df['value']/ (10**df['decimals'])\n",
    "df['block_timestamp'] = pd.to_datetime(df['block_timestamp'])\n",
    "df['tx_month'] = df['block_timestamp'].dt.month\n",
    "df['tx_year'] = df['block_timestamp'].dt.year\n",
    "df.head()"
   ]
  },
  {
   "cell_type": "code",
   "execution_count": 5,
   "metadata": {},
   "outputs": [
    {
     "name": "stdout",
     "output_type": "stream",
     "text": [
      "<class 'pandas.core.frame.DataFrame'>\n",
      "RangeIndex: 1398518 entries, 0 to 1398517\n",
      "Data columns (total 9 columns):\n",
      " #   Column           Non-Null Count    Dtype              \n",
      "---  ------           --------------    -----              \n",
      " 0   block_timestamp  1398518 non-null  datetime64[ns, UTC]\n",
      " 1   from_address     1398518 non-null  object             \n",
      " 2   to_address       1398518 non-null  object             \n",
      " 3   value            543980 non-null   float64            \n",
      " 4   name             542692 non-null   object             \n",
      " 5   symbol           542692 non-null   object             \n",
      " 6   decimals         543980 non-null   float64            \n",
      " 7   tx_month         1398518 non-null  int32              \n",
      " 8   tx_year          1398518 non-null  int32              \n",
      "dtypes: datetime64[ns, UTC](1), float64(2), int32(2), object(4)\n",
      "memory usage: 85.4+ MB\n"
     ]
    }
   ],
   "source": [
    "df.info()"
   ]
  },
  {
   "cell_type": "code",
   "execution_count": 6,
   "metadata": {},
   "outputs": [
    {
     "data": {
      "text/html": [
       "<div>\n",
       "<style scoped>\n",
       "    .dataframe tbody tr th:only-of-type {\n",
       "        vertical-align: middle;\n",
       "    }\n",
       "\n",
       "    .dataframe tbody tr th {\n",
       "        vertical-align: top;\n",
       "    }\n",
       "\n",
       "    .dataframe thead th {\n",
       "        text-align: right;\n",
       "    }\n",
       "</style>\n",
       "<table border=\"1\" class=\"dataframe\">\n",
       "  <thead>\n",
       "    <tr style=\"text-align: right;\">\n",
       "      <th></th>\n",
       "      <th>value</th>\n",
       "      <th>decimals</th>\n",
       "      <th>tx_month</th>\n",
       "      <th>tx_year</th>\n",
       "    </tr>\n",
       "  </thead>\n",
       "  <tbody>\n",
       "    <tr>\n",
       "      <th>count</th>\n",
       "      <td>5.439800e+05</td>\n",
       "      <td>543980.000000</td>\n",
       "      <td>1398518.0</td>\n",
       "      <td>1398518.0</td>\n",
       "    </tr>\n",
       "    <tr>\n",
       "      <th>mean</th>\n",
       "      <td>3.397146e+50</td>\n",
       "      <td>14.399787</td>\n",
       "      <td>7.0</td>\n",
       "      <td>2024.0</td>\n",
       "    </tr>\n",
       "    <tr>\n",
       "      <th>std</th>\n",
       "      <td>1.771701e+53</td>\n",
       "      <td>5.472407</td>\n",
       "      <td>0.0</td>\n",
       "      <td>0.0</td>\n",
       "    </tr>\n",
       "    <tr>\n",
       "      <th>min</th>\n",
       "      <td>0.000000e+00</td>\n",
       "      <td>0.000000</td>\n",
       "      <td>7.0</td>\n",
       "      <td>2024.0</td>\n",
       "    </tr>\n",
       "    <tr>\n",
       "      <th>25%</th>\n",
       "      <td>5.000000e-02</td>\n",
       "      <td>6.000000</td>\n",
       "      <td>7.0</td>\n",
       "      <td>2024.0</td>\n",
       "    </tr>\n",
       "    <tr>\n",
       "      <th>50%</th>\n",
       "      <td>3.446683e-01</td>\n",
       "      <td>18.000000</td>\n",
       "      <td>7.0</td>\n",
       "      <td>2024.0</td>\n",
       "    </tr>\n",
       "    <tr>\n",
       "      <th>75%</th>\n",
       "      <td>1.096815e+02</td>\n",
       "      <td>18.000000</td>\n",
       "      <td>7.0</td>\n",
       "      <td>2024.0</td>\n",
       "    </tr>\n",
       "    <tr>\n",
       "      <th>max</th>\n",
       "      <td>9.239898e+55</td>\n",
       "      <td>18.000000</td>\n",
       "      <td>7.0</td>\n",
       "      <td>2024.0</td>\n",
       "    </tr>\n",
       "  </tbody>\n",
       "</table>\n",
       "</div>"
      ],
      "text/plain": [
       "              value       decimals   tx_month    tx_year\n",
       "count  5.439800e+05  543980.000000  1398518.0  1398518.0\n",
       "mean   3.397146e+50      14.399787        7.0     2024.0\n",
       "std    1.771701e+53       5.472407        0.0        0.0\n",
       "min    0.000000e+00       0.000000        7.0     2024.0\n",
       "25%    5.000000e-02       6.000000        7.0     2024.0\n",
       "50%    3.446683e-01      18.000000        7.0     2024.0\n",
       "75%    1.096815e+02      18.000000        7.0     2024.0\n",
       "max    9.239898e+55      18.000000        7.0     2024.0"
      ]
     },
     "execution_count": 6,
     "metadata": {},
     "output_type": "execute_result"
    }
   ],
   "source": [
    "df.describe()"
   ]
  },
  {
   "attachments": {},
   "cell_type": "markdown",
   "metadata": {},
   "source": [
    "## Indicadores que tengo que elaborar:\n",
    "- transacciones enviadas por esa address\n",
    "- transacciones recibidas\n",
    "- cantidad de criptos que contienen\n",
    "- Activos enviados por unidad de tiempo (en cantidad y en variedad)\n",
    "- Tiempo ocurrido entre transacciones\n",
    "  \n",
    "\n",
    "25/07 -> me dejo planteado variables para sumar al modelo"
   ]
  },
  {
   "cell_type": "markdown",
   "metadata": {},
   "source": []
  },
  {
   "cell_type": "code",
   "execution_count": 7,
   "metadata": {},
   "outputs": [
    {
     "data": {
      "text/html": [
       "<div>\n",
       "<style scoped>\n",
       "    .dataframe tbody tr th:only-of-type {\n",
       "        vertical-align: middle;\n",
       "    }\n",
       "\n",
       "    .dataframe tbody tr th {\n",
       "        vertical-align: top;\n",
       "    }\n",
       "\n",
       "    .dataframe thead th {\n",
       "        text-align: right;\n",
       "    }\n",
       "</style>\n",
       "<table border=\"1\" class=\"dataframe\">\n",
       "  <thead>\n",
       "    <tr style=\"text-align: right;\">\n",
       "      <th></th>\n",
       "      <th></th>\n",
       "      <th></th>\n",
       "      <th>0</th>\n",
       "    </tr>\n",
       "    <tr>\n",
       "      <th>from_address</th>\n",
       "      <th>tx_year</th>\n",
       "      <th>tx_month</th>\n",
       "      <th></th>\n",
       "    </tr>\n",
       "  </thead>\n",
       "  <tbody>\n",
       "    <tr>\n",
       "      <th>0x0000000000000000000000000000000000000000</th>\n",
       "      <th>2024</th>\n",
       "      <th>7</th>\n",
       "      <td>83119</td>\n",
       "    </tr>\n",
       "    <tr>\n",
       "      <th>0x0000000000000000000000000000000000000001</th>\n",
       "      <th>2024</th>\n",
       "      <th>7</th>\n",
       "      <td>4</td>\n",
       "    </tr>\n",
       "    <tr>\n",
       "      <th>0x0000000000000000000000000000000000029e2c</th>\n",
       "      <th>2024</th>\n",
       "      <th>7</th>\n",
       "      <td>1</td>\n",
       "    </tr>\n",
       "    <tr>\n",
       "      <th>0x0000000000000000000000000000000000029f3f</th>\n",
       "      <th>2024</th>\n",
       "      <th>7</th>\n",
       "      <td>1</td>\n",
       "    </tr>\n",
       "    <tr>\n",
       "      <th>0x000000000000003607fce1ac9e043a86675c5c2f</th>\n",
       "      <th>2024</th>\n",
       "      <th>7</th>\n",
       "      <td>3</td>\n",
       "    </tr>\n",
       "  </tbody>\n",
       "</table>\n",
       "</div>"
      ],
      "text/plain": [
       "                                                                 0\n",
       "from_address                               tx_year tx_month       \n",
       "0x0000000000000000000000000000000000000000 2024    7         83119\n",
       "0x0000000000000000000000000000000000000001 2024    7             4\n",
       "0x0000000000000000000000000000000000029e2c 2024    7             1\n",
       "0x0000000000000000000000000000000000029f3f 2024    7             1\n",
       "0x000000000000003607fce1ac9e043a86675c5c2f 2024    7             3"
      ]
     },
     "execution_count": 7,
     "metadata": {},
     "output_type": "execute_result"
    }
   ],
   "source": [
    "df_from_tx_count = pd.DataFrame(df.groupby(['from_address', 'tx_year', 'tx_month']).size())\n",
    "df_from_tx_count.head()"
   ]
  },
  {
   "cell_type": "code",
   "execution_count": 8,
   "metadata": {},
   "outputs": [
    {
     "data": {
      "text/html": [
       "<div>\n",
       "<style scoped>\n",
       "    .dataframe tbody tr th:only-of-type {\n",
       "        vertical-align: middle;\n",
       "    }\n",
       "\n",
       "    .dataframe tbody tr th {\n",
       "        vertical-align: top;\n",
       "    }\n",
       "\n",
       "    .dataframe thead th {\n",
       "        text-align: right;\n",
       "    }\n",
       "</style>\n",
       "<table border=\"1\" class=\"dataframe\">\n",
       "  <thead>\n",
       "    <tr style=\"text-align: right;\">\n",
       "      <th></th>\n",
       "      <th></th>\n",
       "      <th></th>\n",
       "      <th>0</th>\n",
       "    </tr>\n",
       "    <tr>\n",
       "      <th>from_address</th>\n",
       "      <th>tx_year</th>\n",
       "      <th>tx_month</th>\n",
       "      <th></th>\n",
       "    </tr>\n",
       "  </thead>\n",
       "  <tbody>\n",
       "    <tr>\n",
       "      <th>0x0000000000000000000000000000000000000000</th>\n",
       "      <th>2024</th>\n",
       "      <th>7</th>\n",
       "      <td>83119</td>\n",
       "    </tr>\n",
       "    <tr>\n",
       "      <th>0x0000000000000000000000000000000000000001</th>\n",
       "      <th>2024</th>\n",
       "      <th>7</th>\n",
       "      <td>4</td>\n",
       "    </tr>\n",
       "    <tr>\n",
       "      <th>0x0000000000000000000000000000000000029e2c</th>\n",
       "      <th>2024</th>\n",
       "      <th>7</th>\n",
       "      <td>1</td>\n",
       "    </tr>\n",
       "    <tr>\n",
       "      <th>0x0000000000000000000000000000000000029f3f</th>\n",
       "      <th>2024</th>\n",
       "      <th>7</th>\n",
       "      <td>1</td>\n",
       "    </tr>\n",
       "    <tr>\n",
       "      <th>0x000000000000003607fce1ac9e043a86675c5c2f</th>\n",
       "      <th>2024</th>\n",
       "      <th>7</th>\n",
       "      <td>3</td>\n",
       "    </tr>\n",
       "  </tbody>\n",
       "</table>\n",
       "</div>"
      ],
      "text/plain": [
       "                                                                 0\n",
       "from_address                               tx_year tx_month       \n",
       "0x0000000000000000000000000000000000000000 2024    7         83119\n",
       "0x0000000000000000000000000000000000000001 2024    7             4\n",
       "0x0000000000000000000000000000000000029e2c 2024    7             1\n",
       "0x0000000000000000000000000000000000029f3f 2024    7             1\n",
       "0x000000000000003607fce1ac9e043a86675c5c2f 2024    7             3"
      ]
     },
     "execution_count": 8,
     "metadata": {},
     "output_type": "execute_result"
    }
   ],
   "source": [
    "df_to_tx_count = pd.DataFrame(df.groupby(['to_address', 'tx_year', 'tx_month']).size())\n",
    "df_from_tx_count.head()"
   ]
  },
  {
   "cell_type": "code",
   "execution_count": 9,
   "metadata": {},
   "outputs": [
    {
     "data": {
      "text/plain": [
       "from_address                                symbol\n",
       "0x0000000000000000000000000000000000000000  APT         1000.000000\n",
       "                                            BST          188.938288\n",
       "                                            COTI      276579.008140\n",
       "                                            EKPE           0.000000\n",
       "                                            FUSE      178200.000000\n",
       "                                                          ...      \n",
       "0xfffa78c979c2f787b16eac7c7e9c77b11feb77fb  WETH           0.005990\n",
       "0xfffac831dee6b31d332566b563cee2ea5f1fd177  USDT         400.000000\n",
       "0xfffd768351a42bd486f5ca8caf0c731eacdc19c2  USDT        1017.700000\n",
       "0xfffd86577bf4eaa07bcd42ed792c7108342fe401  USDT           7.465713\n",
       "0xfffef93628e1dca980af5f7a721a784ab3af501b  USDT       53013.000000\n",
       "Name: value, Length: 75888, dtype: float64"
      ]
     },
     "execution_count": 9,
     "metadata": {},
     "output_type": "execute_result"
    }
   ],
   "source": [
    "df.groupby(['from_address', 'symbol'])['value'].sum()"
   ]
  },
  {
   "cell_type": "code",
   "execution_count": 10,
   "metadata": {},
   "outputs": [
    {
     "data": {
      "text/plain": [
       "to_address                                  symbol\n",
       "0x0000000000000000000000000000000000000000  BOMB      4.200000e+01\n",
       "                                            BURN      2.327162e+06\n",
       "                                            CTP       3.067685e+10\n",
       "                                            DAO       4.518331e+01\n",
       "                                            FUSE      2.963697e+04\n",
       "                                                          ...     \n",
       "0xfffac831dee6b31d332566b563cee2ea5f1fd177  USDT      4.000000e+02\n",
       "0xfffd768351a42bd486f5ca8caf0c731eacdc19c2  USDT      1.017700e+03\n",
       "0xfffe0ba9c71a9d2fc8fdea29668b5ca9b23496ab  USDT      1.890000e+02\n",
       "0xffff9fcf60cd147f204d57cdc89905e9b1ff7fd6  USDT      1.149642e+01\n",
       "                                            WETH      2.491406e-02\n",
       "Name: value, Length: 87340, dtype: float64"
      ]
     },
     "execution_count": 10,
     "metadata": {},
     "output_type": "execute_result"
    }
   ],
   "source": [
    "df.groupby(['to_address', 'symbol'])['value'].sum()"
   ]
  },
  {
   "cell_type": "code",
   "execution_count": null,
   "metadata": {},
   "outputs": [],
   "source": []
  }
 ],
 "metadata": {
  "kernelspec": {
   "display_name": "crypto-cluster",
   "language": "python",
   "name": "python3"
  },
  "language_info": {
   "codemirror_mode": {
    "name": "ipython",
    "version": 3
   },
   "file_extension": ".py",
   "mimetype": "text/x-python",
   "name": "python",
   "nbconvert_exporter": "python",
   "pygments_lexer": "ipython3",
   "version": "3.12.4"
  },
  "orig_nbformat": 4,
  "vscode": {
   "interpreter": {
    "hash": "36ff38d21e4fa19b9cf758eb523add5f8a3c0c2207737aed3357aae979315a29"
   }
  }
 },
 "nbformat": 4,
 "nbformat_minor": 2
}
